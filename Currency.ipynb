{
 "cells": [
  {
   "cell_type": "code",
   "execution_count": 4,
   "id": "3adad0a0",
   "metadata": {},
   "outputs": [],
   "source": [
    "import pandas as pd\n",
    "from forex_python.converter import CurrencyRates, get_rate\n",
    "import matplotlib.pyplot as plt\n",
    "from datetime import datetime"
   ]
  },
  {
   "cell_type": "code",
   "execution_count": 5,
   "id": "b665dcef-86fa-42e2-b95d-a0696025d84e",
   "metadata": {
    "scrolled": true
   },
   "outputs": [
    {
     "data": {
      "text/html": [
       "<div>\n",
       "<style scoped>\n",
       "    .dataframe tbody tr th:only-of-type {\n",
       "        vertical-align: middle;\n",
       "    }\n",
       "\n",
       "    .dataframe tbody tr th {\n",
       "        vertical-align: top;\n",
       "    }\n",
       "\n",
       "    .dataframe thead th {\n",
       "        text-align: right;\n",
       "    }\n",
       "</style>\n",
       "<table border=\"1\" class=\"dataframe\">\n",
       "  <thead>\n",
       "    <tr style=\"text-align: right;\">\n",
       "      <th></th>\n",
       "      <th>Currencies</th>\n",
       "      <th>Rates</th>\n",
       "      <th>Code</th>\n",
       "    </tr>\n",
       "  </thead>\n",
       "  <tbody>\n",
       "    <tr>\n",
       "      <th>0</th>\n",
       "      <td>Australia Dollar</td>\n",
       "      <td>1.428599</td>\n",
       "      <td>AUD</td>\n",
       "    </tr>\n",
       "    <tr>\n",
       "      <th>1</th>\n",
       "      <td>Canadian Dollar</td>\n",
       "      <td>1.281710</td>\n",
       "      <td>CAD</td>\n",
       "    </tr>\n",
       "    <tr>\n",
       "      <th>2</th>\n",
       "      <td>Euro</td>\n",
       "      <td>0.950119</td>\n",
       "      <td>EUR</td>\n",
       "    </tr>\n",
       "    <tr>\n",
       "      <th>3</th>\n",
       "      <td>Pound Sterling</td>\n",
       "      <td>0.805017</td>\n",
       "      <td>GBP</td>\n",
       "    </tr>\n",
       "    <tr>\n",
       "      <th>4</th>\n",
       "      <td>Singapore Dollar</td>\n",
       "      <td>1.384893</td>\n",
       "      <td>SGD</td>\n",
       "    </tr>\n",
       "  </tbody>\n",
       "</table>\n",
       "</div>"
      ],
      "text/plain": [
       "         Currencies     Rates Code\n",
       "0  Australia Dollar  1.428599  AUD\n",
       "1   Canadian Dollar  1.281710  CAD\n",
       "2              Euro  0.950119  EUR\n",
       "3    Pound Sterling  0.805017  GBP\n",
       "4  Singapore Dollar  1.384893  SGD"
      ]
     },
     "execution_count": 5,
     "metadata": {},
     "output_type": "execute_result"
    }
   ],
   "source": [
    "a = CurrencyRates()\n",
    "c = a.get_rates(\"USD\")\n",
    "\n",
    "currency = pd.DataFrame(\n",
    "    {\n",
    "        \"Currencies\": [\"Australia Dollar\", \"Canadian Dollar\", \"Euro\", \"Pound Sterling\", \"Singapore Dollar\"],\n",
    "        \"Rates\": [c[\"AUD\"], c[\"CAD\"], c[\"EUR\"], c[\"GBP\"], c[\"SGD\"]],\n",
    "        \"Code\": [\"AUD\", \"CAD\", \"EUR\", \"GBP\", \"SGD\" ]\n",
    "    }\n",
    ")\n",
    "\n",
    "currency\n",
    "\n"
   ]
  },
  {
   "cell_type": "code",
   "execution_count": 6,
   "id": "71bedcb2",
   "metadata": {},
   "outputs": [
    {
     "data": {
      "image/png": "[encoded data removed]",
      "text/plain": [
       "<Figure size 432x288 with 1 Axes>"
      ]
     },
     "metadata": {
      "needs_background": "light"
     },
     "output_type": "display_data"
    }
   ],
   "source": [
    "currency.sort_values(by=\"Rates\").plot(x=\"Code\", y=\"Rates\")\n",
    "plt.title(\"Currency Rates\")\n",
    "plt.show()"
   ]
  }
 ],
 "metadata": {
  "kernelspec": {
   "display_name": "Python 3 (ipykernel)",
   "language": "python",
   "name": "python3"
  },
  "language_info": {
   "codemirror_mode": {
    "name": "ipython",
    "version": 3
   },
   "file_extension": ".py",
   "mimetype": "text/x-python",
   "name": "python",
   "nbconvert_exporter": "python",
   "pygments_lexer": "ipython3",
   "version": "3.10.2"
  }
 },
 "nbformat": 4,
 "nbformat_minor": 5
}
